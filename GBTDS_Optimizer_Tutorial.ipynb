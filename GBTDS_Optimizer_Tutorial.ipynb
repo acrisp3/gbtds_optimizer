{
 "cells": [
  {
   "cell_type": "markdown",
   "id": "3b8d62a7-a1bd-4bc6-89e5-0fcaafcdeefb",
   "metadata": {},
   "source": [
    "# GBTDS Optimizer Tutorial"
   ]
  },
  {
   "cell_type": "markdown",
   "id": "0991b0d0-4ae5-441c-a02b-823e264c45be",
   "metadata": {},
   "source": [
    "## Package Dependencies\n",
    "\n",
    "- numpy\n",
    "- scipy\n",
    "- pandas\n",
    "- astropy\n",
    "- matplotlib\n",
    "- pypolyclip"
   ]
  },
  {
   "cell_type": "markdown",
   "id": "b685d47d-6e1c-454f-b163-ef14fd96dfd6",
   "metadata": {},
   "source": [
    "## Python Script Descriptions\n",
    "\n",
    "### clip_map_test.py\n",
    "\n",
    "### clip_map.py\n",
    "\n",
    "### construct_layout.py\n",
    "\n",
    "### createCovfac.py\n",
    "\n",
    "### fields.py\n",
    "\n",
    "### gbtds_optimizer.py\n",
    "This is the main tool for this repo. It takes several inputs describing a *Roman* GBTDS survey design and outputs the yield (see the [README](./README.md) for more details). It can be run as a standalone python script, or using the `gbtds_optimizer.sh` shell script.\n",
    "\n",
    "### optimizeSlew.py\n",
    "\n",
    "### plotFields.py\n",
    "\n",
    "### results_plotter.py\n",
    "\n",
    "### simple_field_plotting.py\n",
    "\n",
    "### yieldMap.py"
   ]
  },
  {
   "cell_type": "markdown",
   "id": "b0e37e2d-d418-4217-8eb9-ca9864134c63",
   "metadata": {},
   "source": [
    "## Usage Examples"
   ]
  },
  {
   "cell_type": "markdown",
   "id": "f0125df8-fc91-4bbb-b96d-5b760dbffa16",
   "metadata": {},
   "source": [
    "### createCovfac.py"
   ]
  },
  {
   "cell_type": "code",
   "execution_count": null,
   "id": "ba07f0aa-233d-4004-8c31-e88dae1e4174",
   "metadata": {},
   "outputs": [],
   "source": []
  }
 ],
 "metadata": {
  "kernelspec": {
   "display_name": "Python [conda env:base] *",
   "language": "python",
   "name": "conda-base-py"
  },
  "language_info": {
   "codemirror_mode": {
    "name": "ipython",
    "version": 3
   },
   "file_extension": ".py",
   "mimetype": "text/x-python",
   "name": "python",
   "nbconvert_exporter": "python",
   "pygments_lexer": "ipython3",
   "version": "3.12.2"
  }
 },
 "nbformat": 4,
 "nbformat_minor": 5
}
